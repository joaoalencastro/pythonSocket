{
 "cells": [
  {
   "cell_type": "code",
   "execution_count": 118,
   "source": [
    "import pandas as pd\r\n",
    "from numpy import arange\r\n",
    "import matplotlib.pyplot as plt\r\n",
    "%matplotlib inline"
   ],
   "outputs": [],
   "metadata": {}
  },
  {
   "cell_type": "code",
   "execution_count": 119,
   "source": [
    "# Read from CSV\r\n",
    "\r\n",
    "df1 = pd.read_csv('Outputs/packets-udp-rfc761-plaintext-dinamico-2021.09.27-processed')\r\n",
    "df2 = pd.read_csv('Outputs/packets-udp-rfc761-encrypted-dinamico-2021.09.27-processed')"
   ],
   "outputs": [],
   "metadata": {}
  },
  {
   "cell_type": "code",
   "execution_count": 120,
   "source": [
    "# Filtering by port\r\n",
    "\r\n",
    "is_port = df1['dstport']==20001\r\n",
    "#print(is_port.head())\r\n",
    "df1 = df1[is_port]\r\n",
    "is_port = df2['dstport']==20001\r\n",
    "df2 = df2[is_port]"
   ],
   "outputs": [],
   "metadata": {}
  },
  {
   "cell_type": "code",
   "execution_count": 121,
   "source": [
    "# Filtering by the number of packets of chosen size\r\n",
    "\r\n",
    "is_bytes = df1['payload_size']>2\r\n",
    "df1 = df1[is_bytes]\r\n",
    "is_bytes = df2['payload_size']>2\r\n",
    "df2 = df2[is_bytes]"
   ],
   "outputs": [],
   "metadata": {}
  },
  {
   "cell_type": "code",
   "execution_count": 122,
   "source": [
    "# Sort dataframe by an index (column) and show\r\n",
    "\r\n",
    "df1 = df1.sort_values('shannon')\r\n",
    "df2 = df2.sort_values('shannon')\r\n",
    "print(df2.iloc[:,6:11])"
   ],
   "outputs": [
    {
     "output_type": "stream",
     "name": "stdout",
     "text": [
      "     payload_size   shannon      bien     tbien\n",
      "94            225  0.631099  0.455663  0.935441\n",
      "89           1032  0.695160  0.236018  0.936314\n",
      "84           1032  0.695160  0.950885  0.973028\n",
      "156          1032  0.695160  0.950402  0.967231\n",
      "69           1032  0.695160  0.948715  0.962636\n",
      "..            ...       ...       ...       ...\n",
      "4            1032  0.831955  0.460083  0.946810\n",
      "125          1032  0.831955  0.453359  0.897965\n",
      "98           1032  0.863205  0.472869  0.944570\n",
      "104          1032  0.863205  0.952650  0.959822\n",
      "144          1032  0.863205  0.926134  0.949778\n",
      "\n",
      "[157 rows x 4 columns]\n"
     ]
    }
   ],
   "metadata": {}
  },
  {
   "cell_type": "code",
   "execution_count": 123,
   "source": [
    "df = df1.iloc[:,7:10]\r\n",
    "df = df.rename(columns={\"shannon\":\"plaintext_shannon\",\"bien\":\"plaintext_bien\",\"tbien\":\"plaintext_tbien\"})\r\n"
   ],
   "outputs": [],
   "metadata": {}
  },
  {
   "cell_type": "code",
   "execution_count": 124,
   "source": [
    "df['encrypted_shannon'] = df2['shannon'].values\r\n",
    "df = df.reset_index()\r\n",
    "df"
   ],
   "outputs": [
    {
     "output_type": "execute_result",
     "data": {
      "text/html": [
       "<div>\n",
       "<style scoped>\n",
       "    .dataframe tbody tr th:only-of-type {\n",
       "        vertical-align: middle;\n",
       "    }\n",
       "\n",
       "    .dataframe tbody tr th {\n",
       "        vertical-align: top;\n",
       "    }\n",
       "\n",
       "    .dataframe thead th {\n",
       "        text-align: right;\n",
       "    }\n",
       "</style>\n",
       "<table border=\"1\" class=\"dataframe\">\n",
       "  <thead>\n",
       "    <tr style=\"text-align: right;\">\n",
       "      <th></th>\n",
       "      <th>index</th>\n",
       "      <th>plaintext_shannon</th>\n",
       "      <th>plaintext_bien</th>\n",
       "      <th>plaintext_tbien</th>\n",
       "      <th>encrypted_shannon</th>\n",
       "    </tr>\n",
       "  </thead>\n",
       "  <tbody>\n",
       "    <tr>\n",
       "      <th>0</th>\n",
       "      <td>123</td>\n",
       "      <td>0.632660</td>\n",
       "      <td>0.461807</td>\n",
       "      <td>0.953775</td>\n",
       "      <td>0.631099</td>\n",
       "    </tr>\n",
       "    <tr>\n",
       "      <th>1</th>\n",
       "      <td>124</td>\n",
       "      <td>0.644455</td>\n",
       "      <td>0.944600</td>\n",
       "      <td>0.964611</td>\n",
       "      <td>0.695160</td>\n",
       "    </tr>\n",
       "    <tr>\n",
       "      <th>2</th>\n",
       "      <td>119</td>\n",
       "      <td>0.656250</td>\n",
       "      <td>0.914152</td>\n",
       "      <td>0.912518</td>\n",
       "      <td>0.695160</td>\n",
       "    </tr>\n",
       "    <tr>\n",
       "      <th>3</th>\n",
       "      <td>64</td>\n",
       "      <td>0.662349</td>\n",
       "      <td>0.461527</td>\n",
       "      <td>0.931501</td>\n",
       "      <td>0.695160</td>\n",
       "    </tr>\n",
       "    <tr>\n",
       "      <th>4</th>\n",
       "      <td>126</td>\n",
       "      <td>0.675705</td>\n",
       "      <td>0.459005</td>\n",
       "      <td>0.949543</td>\n",
       "      <td>0.695160</td>\n",
       "    </tr>\n",
       "    <tr>\n",
       "      <th>...</th>\n",
       "      <td>...</td>\n",
       "      <td>...</td>\n",
       "      <td>...</td>\n",
       "      <td>...</td>\n",
       "      <td>...</td>\n",
       "    </tr>\n",
       "    <tr>\n",
       "      <th>152</th>\n",
       "      <td>57</td>\n",
       "      <td>0.800705</td>\n",
       "      <td>0.935036</td>\n",
       "      <td>0.966221</td>\n",
       "      <td>0.831955</td>\n",
       "    </tr>\n",
       "    <tr>\n",
       "      <th>153</th>\n",
       "      <td>91</td>\n",
       "      <td>0.800705</td>\n",
       "      <td>0.953136</td>\n",
       "      <td>0.963263</td>\n",
       "      <td>0.831955</td>\n",
       "    </tr>\n",
       "    <tr>\n",
       "      <th>154</th>\n",
       "      <td>74</td>\n",
       "      <td>0.800705</td>\n",
       "      <td>0.472357</td>\n",
       "      <td>0.946168</td>\n",
       "      <td>0.863205</td>\n",
       "    </tr>\n",
       "    <tr>\n",
       "      <th>155</th>\n",
       "      <td>120</td>\n",
       "      <td>0.800705</td>\n",
       "      <td>0.451375</td>\n",
       "      <td>0.933010</td>\n",
       "      <td>0.863205</td>\n",
       "    </tr>\n",
       "    <tr>\n",
       "      <th>156</th>\n",
       "      <td>84</td>\n",
       "      <td>0.831955</td>\n",
       "      <td>0.245107</td>\n",
       "      <td>0.934188</td>\n",
       "      <td>0.863205</td>\n",
       "    </tr>\n",
       "  </tbody>\n",
       "</table>\n",
       "<p>157 rows × 5 columns</p>\n",
       "</div>"
      ],
      "text/plain": [
       "     index  plaintext_shannon  plaintext_bien  plaintext_tbien  \\\n",
       "0      123           0.632660        0.461807         0.953775   \n",
       "1      124           0.644455        0.944600         0.964611   \n",
       "2      119           0.656250        0.914152         0.912518   \n",
       "3       64           0.662349        0.461527         0.931501   \n",
       "4      126           0.675705        0.459005         0.949543   \n",
       "..     ...                ...             ...              ...   \n",
       "152     57           0.800705        0.935036         0.966221   \n",
       "153     91           0.800705        0.953136         0.963263   \n",
       "154     74           0.800705        0.472357         0.946168   \n",
       "155    120           0.800705        0.451375         0.933010   \n",
       "156     84           0.831955        0.245107         0.934188   \n",
       "\n",
       "     encrypted_shannon  \n",
       "0             0.631099  \n",
       "1             0.695160  \n",
       "2             0.695160  \n",
       "3             0.695160  \n",
       "4             0.695160  \n",
       "..                 ...  \n",
       "152           0.831955  \n",
       "153           0.831955  \n",
       "154           0.863205  \n",
       "155           0.863205  \n",
       "156           0.863205  \n",
       "\n",
       "[157 rows x 5 columns]"
      ]
     },
     "metadata": {},
     "execution_count": 124
    }
   ],
   "metadata": {}
  },
  {
   "cell_type": "code",
   "execution_count": 125,
   "source": [
    "# Plot 1\r\n",
    "\r\n",
    "title = 'Line chart of plaintext and encrypted shannon entropy'\r\n",
    "ax = df.plot(y=['plaintext_shannon','encrypted_shannon'],kind='line',title=title, grid=True)\r\n",
    "ax.xaxis.grid(True, which='major', linestyle='-', linewidth=1)\r\n",
    "ymajortick = arange(0,1.1,0.1)\r\n",
    "yminortick = arange(0,1.1,0.05)\r\n",
    "ax.set_yticks( ymajortick, minor=False )\r\n",
    "ax.set_yticks( yminortick, minor=True )\r\n",
    "ax.grid('on', which='both', axis='x' )\r\n",
    "plt.savefig('Plots/rfc761/udpshannonlinecomparison.png', transparent=False)"
   ],
   "outputs": [
    {
     "output_type": "display_data",
     "data": {
      "image/png": "[encoded data removed]",
      "text/plain": [
       "<Figure size 432x288 with 1 Axes>"
      ]
     },
     "metadata": {
      "needs_background": "light"
     }
    }
   ],
   "metadata": {}
  },
  {
   "cell_type": "code",
   "execution_count": 126,
   "source": [
    "# Plot 2\r\n",
    "\r\n",
    "title = 'Boxplot of plaintext and encrypted shannon entropy'\r\n",
    "ax = df.plot(y=['plaintext_shannon','encrypted_shannon'],kind='box',title=title, grid=True)\r\n",
    "ax.xaxis.grid(True, which='major', linestyle='-', linewidth=1)\r\n",
    "ymajortick = arange(0,1.1,0.1)\r\n",
    "yminortick = arange(0,1.1,0.05)\r\n",
    "ax.set_yticks( ymajortick, minor=False )\r\n",
    "ax.set_yticks( yminortick, minor=True )\r\n",
    "ax.grid('on', which='both', axis='x' )\r\n",
    "plt.savefig('Plots/rfc761/udpshannonboxcomparison.png', transparent=False)"
   ],
   "outputs": [
    {
     "output_type": "display_data",
     "data": {
      "image/png": "[encoded data removed]",
      "text/plain": [
       "<Figure size 432x288 with 1 Axes>"
      ]
     },
     "metadata": {
      "needs_background": "light"
     }
    }
   ],
   "metadata": {}
  }
 ],
 "metadata": {
  "orig_nbformat": 4,
  "language_info": {
   "name": "python",
   "version": "3.8.10",
   "mimetype": "text/x-python",
   "codemirror_mode": {
    "name": "ipython",
    "version": 3
   },
   "pygments_lexer": "ipython3",
   "nbconvert_exporter": "python",
   "file_extension": ".py"
  },
  "kernelspec": {
   "name": "python3",
   "display_name": "Python 3.8.10 64-bit (windows store)"
  },
  "interpreter": {
   "hash": "f471c8a6502c2f47f9cc901400d60311cb2fd752a8ad61f5ab492866eead49a8"
  }
 },
 "nbformat": 4,
 "nbformat_minor": 2
}