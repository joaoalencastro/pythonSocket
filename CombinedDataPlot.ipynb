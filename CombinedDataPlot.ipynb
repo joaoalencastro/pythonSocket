{
 "cells": [
  {
   "cell_type": "code",
   "execution_count": 43,
   "source": [
    "import pandas as pd\r\n",
    "from numpy import arange\r\n",
    "from scipy import stats\r\n",
    "import matplotlib.pyplot as plt\r\n",
    "%matplotlib inline"
   ],
   "outputs": [],
   "metadata": {}
  },
  {
   "cell_type": "code",
   "execution_count": 44,
   "source": [
    "# Read from CSV\r\n",
    "\r\n",
    "df1 = pd.read_csv('Outputs/packets-udp-rfc761-plaintext-dinamico-2021.09.27-processed')\r\n",
    "df2 = pd.read_csv('Outputs/packets-udp-rfc761-encrypted-dinamico-2021.09.27-processed')"
   ],
   "outputs": [],
   "metadata": {}
  },
  {
   "cell_type": "markdown",
   "source": [
    "## Filtragem"
   ],
   "metadata": {}
  },
  {
   "cell_type": "code",
   "execution_count": 45,
   "source": [
    "# Filtering by port\r\n",
    "\r\n",
    "is_port = df1['dstport']==20001\r\n",
    "#print(is_port.head())\r\n",
    "df1 = df1[is_port]\r\n",
    "is_port = df2['dstport']==20001\r\n",
    "df2 = df2[is_port]"
   ],
   "outputs": [],
   "metadata": {}
  },
  {
   "cell_type": "code",
   "execution_count": 46,
   "source": [
    "# Filtering by the number of packets of chosen size\r\n",
    "\r\n",
    "is_bytes = df1['payload_size']>2\r\n",
    "df1 = df1[is_bytes]\r\n",
    "is_bytes = df2['payload_size']>2\r\n",
    "df2 = df2[is_bytes]"
   ],
   "outputs": [],
   "metadata": {}
  },
  {
   "cell_type": "code",
   "execution_count": 47,
   "source": [
    "# Sort dataframe by an index (column) and show\r\n",
    "\r\n",
    "df1 = df1.sort_values('shannon', ignore_index=True)\r\n",
    "df2 = df2.sort_values('shannon', ignore_index=True)\r\n",
    "print(df2.iloc[:,6:11])"
   ],
   "outputs": [
    {
     "output_type": "stream",
     "name": "stdout",
     "text": [
      "     payload_size   shannon      bien     tbien\n",
      "0            1032  0.337173  0.638747  0.898278\n",
      "1            1032  0.337249  0.646835  0.894196\n",
      "2            1032  0.337871  0.627784  0.896179\n",
      "3            1032  0.338146  0.621429  0.894065\n",
      "4            1032  0.338219  0.616857  0.894483\n",
      "..            ...       ...       ...       ...\n",
      "152          1032  0.342862  0.592577  0.885117\n",
      "153          1032  0.343123  0.597861  0.885782\n",
      "154          1032  0.343227  0.646391  0.895666\n",
      "155          1032  0.343291  0.658950  0.901046\n",
      "156           225  0.426107  0.589324  0.883209\n",
      "\n",
      "[157 rows x 4 columns]\n"
     ]
    }
   ],
   "metadata": {}
  },
  {
   "cell_type": "code",
   "execution_count": 48,
   "source": [
    "df = df1.iloc[:,7:10]\r\n",
    "df = df.rename(columns={\"shannon\":\"plaintext_shannon\",\"bien\":\"plaintext_bien\",\"tbien\":\"plaintext_tbien\"})\r\n"
   ],
   "outputs": [],
   "metadata": {}
  },
  {
   "cell_type": "code",
   "execution_count": 49,
   "source": [
    "df['encrypted_shannon'] = df2['shannon'].values\r\n",
    "#df = df.reset_index(drop=True)\r\n",
    "df"
   ],
   "outputs": [
    {
     "output_type": "execute_result",
     "data": {
      "text/html": [
       "<div>\n",
       "<style scoped>\n",
       "    .dataframe tbody tr th:only-of-type {\n",
       "        vertical-align: middle;\n",
       "    }\n",
       "\n",
       "    .dataframe tbody tr th {\n",
       "        vertical-align: top;\n",
       "    }\n",
       "\n",
       "    .dataframe thead th {\n",
       "        text-align: right;\n",
       "    }\n",
       "</style>\n",
       "<table border=\"1\" class=\"dataframe\">\n",
       "  <thead>\n",
       "    <tr style=\"text-align: right;\">\n",
       "      <th></th>\n",
       "      <th>plaintext_shannon</th>\n",
       "      <th>plaintext_bien</th>\n",
       "      <th>plaintext_tbien</th>\n",
       "      <th>encrypted_shannon</th>\n",
       "    </tr>\n",
       "  </thead>\n",
       "  <tbody>\n",
       "    <tr>\n",
       "      <th>0</th>\n",
       "      <td>0.213344</td>\n",
       "      <td>0.212841</td>\n",
       "      <td>0.405668</td>\n",
       "      <td>0.337173</td>\n",
       "    </tr>\n",
       "    <tr>\n",
       "      <th>1</th>\n",
       "      <td>0.224973</td>\n",
       "      <td>0.257302</td>\n",
       "      <td>0.438592</td>\n",
       "      <td>0.337249</td>\n",
       "    </tr>\n",
       "    <tr>\n",
       "      <th>2</th>\n",
       "      <td>0.228214</td>\n",
       "      <td>0.290831</td>\n",
       "      <td>0.483788</td>\n",
       "      <td>0.337871</td>\n",
       "    </tr>\n",
       "    <tr>\n",
       "      <th>3</th>\n",
       "      <td>0.228416</td>\n",
       "      <td>0.281924</td>\n",
       "      <td>0.444332</td>\n",
       "      <td>0.338146</td>\n",
       "    </tr>\n",
       "    <tr>\n",
       "      <th>4</th>\n",
       "      <td>0.247868</td>\n",
       "      <td>0.269381</td>\n",
       "      <td>0.470586</td>\n",
       "      <td>0.338219</td>\n",
       "    </tr>\n",
       "    <tr>\n",
       "      <th>...</th>\n",
       "      <td>...</td>\n",
       "      <td>...</td>\n",
       "      <td>...</td>\n",
       "      <td>...</td>\n",
       "    </tr>\n",
       "    <tr>\n",
       "      <th>152</th>\n",
       "      <td>0.298345</td>\n",
       "      <td>0.517093</td>\n",
       "      <td>0.746866</td>\n",
       "      <td>0.342862</td>\n",
       "    </tr>\n",
       "    <tr>\n",
       "      <th>153</th>\n",
       "      <td>0.300075</td>\n",
       "      <td>0.536709</td>\n",
       "      <td>0.831134</td>\n",
       "      <td>0.343123</td>\n",
       "    </tr>\n",
       "    <tr>\n",
       "      <th>154</th>\n",
       "      <td>0.300494</td>\n",
       "      <td>0.478095</td>\n",
       "      <td>0.732485</td>\n",
       "      <td>0.343227</td>\n",
       "    </tr>\n",
       "    <tr>\n",
       "      <th>155</th>\n",
       "      <td>0.301561</td>\n",
       "      <td>0.578653</td>\n",
       "      <td>0.821714</td>\n",
       "      <td>0.343291</td>\n",
       "    </tr>\n",
       "    <tr>\n",
       "      <th>156</th>\n",
       "      <td>0.307852</td>\n",
       "      <td>0.571515</td>\n",
       "      <td>0.792018</td>\n",
       "      <td>0.426107</td>\n",
       "    </tr>\n",
       "  </tbody>\n",
       "</table>\n",
       "<p>157 rows × 4 columns</p>\n",
       "</div>"
      ],
      "text/plain": [
       "     plaintext_shannon  plaintext_bien  plaintext_tbien  encrypted_shannon\n",
       "0             0.213344        0.212841         0.405668           0.337173\n",
       "1             0.224973        0.257302         0.438592           0.337249\n",
       "2             0.228214        0.290831         0.483788           0.337871\n",
       "3             0.228416        0.281924         0.444332           0.338146\n",
       "4             0.247868        0.269381         0.470586           0.338219\n",
       "..                 ...             ...              ...                ...\n",
       "152           0.298345        0.517093         0.746866           0.342862\n",
       "153           0.300075        0.536709         0.831134           0.343123\n",
       "154           0.300494        0.478095         0.732485           0.343227\n",
       "155           0.301561        0.578653         0.821714           0.343291\n",
       "156           0.307852        0.571515         0.792018           0.426107\n",
       "\n",
       "[157 rows x 4 columns]"
      ]
     },
     "metadata": {},
     "execution_count": 49
    }
   ],
   "metadata": {}
  },
  {
   "cell_type": "markdown",
   "source": [
    "## Calculate p-value for the distributions\r\n",
    "\r\n",
    "* **Statistic**: A quantity calculated by the test that can be interpreted in the context of the test via comparing it to critical values from the distribution of the test statistic.\r\n",
    "* **p-value**: Used to interpret the test, in this case whether the sample was drawn from a Gaussian distribution.\r\n",
    "\r\n",
    "The tests assume that that the sample was drawn from a Gaussian distribution. Technically this is called the null hypothesis, or H0. A threshold level is chosen called alpha, typically 5% (or 0.05), that is used to interpret the p-value.\r\n",
    "\r\n",
    "In the SciPy implementation of these tests, you can interpret the p value as follows.\r\n",
    "\r\n",
    "* **p <= alpha**: reject H0, not normal.\r\n",
    "* **p > alpha**: fail to reject H0, normal.\r\n",
    "\r\n",
    "A result above 5% does not mean that the null hypothesis is true. It means that it is very likely true given available evidence. The p-value is not the probability of the data fitting a Gaussian distribution; it can be thought of as a value that helps us interpret the statistical test.\r\n",
    "\r\n",
    "\r\n",
    "[Source](https://machinelearningmastery.com/a-gentle-introduction-to-normality-tests-in-python/)"
   ],
   "metadata": {}
  },
  {
   "cell_type": "code",
   "execution_count": 50,
   "source": [
    "# Determine alpha\r\n",
    "alpha = 0.05\r\n",
    "\r\n",
    "\r\n",
    "stat, p = stats.shapiro(df['plaintext_shannon'].values)\r\n",
    "print(\"Stats: {} P-Value: {}\".format(stat, p))\r\n",
    "if p < alpha:\r\n",
    "  print(\"Shannon's Entropy for the plaintext is not normally distributed.\")\r\n",
    "else:\r\n",
    "  print(\"Shannon's Entropy for the plaintext is normally distributed.\")\r\n"
   ],
   "outputs": [
    {
     "output_type": "stream",
     "name": "stdout",
     "text": [
      "Stats: 0.6662066578865051 P-Value: 2.1428272586863792e-17\n",
      "Shannon's Entropy for the plaintext is not normally distributed.\n"
     ]
    }
   ],
   "metadata": {}
  },
  {
   "cell_type": "code",
   "execution_count": 51,
   "source": [
    "# Determine alpha\r\n",
    "alpha = 0.05\r\n",
    "\r\n",
    "\r\n",
    "stat, p = stats.shapiro(df['encrypted_shannon'].values)\r\n",
    "print(\"Stats: {} P-Value: {}\".format(stat, p))\r\n",
    "if p < alpha:\r\n",
    "  print(\"Shannon's Entropy for the encrypted text is not normally distributed.\")\r\n",
    "else:\r\n",
    "  print(\"Shannon's Entropy for the encrypted text is normally distributed.\")"
   ],
   "outputs": [
    {
     "output_type": "stream",
     "name": "stdout",
     "text": [
      "Stats: 0.1541312336921692 P-Value: 3.5749632399172834e-26\n",
      "Shannon's Entropy for the encrypted text is not normally distributed.\n"
     ]
    }
   ],
   "metadata": {}
  },
  {
   "cell_type": "markdown",
   "source": [
    "## Como nosso dataset não segue uma distribuição normal, usaremos o teste 'Wilcoxon Signed Rank Test'\r\n",
    "\r\n",
    "The Wilcoxon signed-rank test tests the null hypothesis that two related paired samples come from the same distribution. In particular, it tests whether the distribution of the differences x - y is symmetric about zero. It is a non-parametric version of the paired T-test.\r\n",
    "\r\n",
    "[Source](https://docs.scipy.org/doc/scipy/reference/generated/scipy.stats.wilcoxon.html)"
   ],
   "metadata": {}
  },
  {
   "cell_type": "markdown",
   "source": [
    "# Wilcoxon Signed-Rank Test\r\n",
    "\r\n",
    "In some cases, the data samples may be paired.\r\n",
    "\r\n",
    "There are many reasons why this may be the case, for example, the samples are related or matched in some way or represent two measurements of the same technique. More specifically, each sample is independent, but comes from the same population.\r\n",
    "\r\n",
    "Examples of paired samples in machine learning might be the same algorithm evaluated on different datasets or different algorithms evaluated on exactly the same training and test data.\r\n",
    "\r\n",
    "The samples are not independent, therefore the Mann-Whitney U test cannot be used. Instead, the Wilcoxon signed-rank test is used, also called the Wilcoxon T test, named for Frank Wilcoxon. It is the equivalent of the paired Student T-test, but for ranked data instead of real valued data with a Gaussian distribution.\r\n",
    "\r\n",
    "    The Wilcoxon signed ranks test is a nonparametric statistical procedure for comparing two samples that are paired, or related. The parametric equivalent to the Wilcoxon signed ranks test goes by names such as the Student’s t-test, t-test for matched pairs, t-test for paired samples, or t-test for dependent samples.\r\n",
    "\r\n",
    "— Pages 38-39, Nonparametric Statistics for Non-Statisticians: A Step-by-Step Approach, 2009.\r\n",
    "\r\n",
    "The default assumption for the test, the null hypothesis, is that the two samples have the same distribution.\r\n",
    "\r\n",
    "    Fail to Reject H0: Sample distributions are equal.\r\n",
    "    Reject H0: Sample distributions are not equal.\r\n",
    "\r\n",
    "For the test to be effective, it requires at least 20 observations in each data sample.\r\n",
    "\r\n",
    "The Wilcoxon signed-rank test can be implemented in Python using the wilcoxon() SciPy function. The function takes the two samples as arguments and returns the calculated statistic and p-value.\r\n",
    "\r\n",
    "The complete example is below, demonstrating the calculation of the Wilcoxon signed-rank test on the test problem. The two samples are technically not paired, but we can pretend they are for the sake of demonstrating the calculation of this significance test.]\r\n",
    "\r\n",
    "[Source](https://machinelearningmastery.com/nonparametric-statistical-significance-tests-in-python/)"
   ],
   "metadata": {}
  },
  {
   "cell_type": "code",
   "execution_count": 53,
   "source": [
    "alpha = 0.05\r\n",
    "\r\n",
    "w, p = stats.wilcoxon(df['plaintext_shannon'].values, df['encrypted_shannon'].values)\r\n",
    "print(\"Statictics = {}, p = {}\".format(w, p))\r\n",
    "if p < alpha:\r\n",
    "  print(\"Different distribution (reject H0)\")\r\n",
    "else:\r\n",
    "  print(\"Same distribution (fail to reject H0\")"
   ],
   "outputs": [
    {
     "output_type": "stream",
     "name": "stdout",
     "text": [
      "Statictics = 0.0, p = 1.628958993624077e-27\n",
      "Different distribution (reject H0)\n"
     ]
    }
   ],
   "metadata": {}
  },
  {
   "cell_type": "code",
   "execution_count": null,
   "source": [
    "# Plot 1\r\n",
    "\r\n",
    "title = 'Line chart of plaintext and encrypted shannon entropy'\r\n",
    "ax = df.plot(y=['plaintext_shannon','encrypted_shannon'],kind='line',title=title, grid=True)\r\n",
    "ax.xaxis.grid(True, which='major', linestyle='-', linewidth=1)\r\n",
    "ymajortick = arange(0,1.1,0.1)\r\n",
    "yminortick = arange(0,1.1,0.05)\r\n",
    "ax.set_yticks( ymajortick, minor=False )\r\n",
    "ax.set_yticks( yminortick, minor=True )\r\n",
    "ax.grid('on', which='both', axis='x' )\r\n",
    "plt.savefig('Plots/rfc761/Comparison/udpshannonlinecomparison.png', transparent=False)"
   ],
   "outputs": [
    {
     "output_type": "display_data",
     "data": {
      "image/png": "[encoded data removed]",
      "text/plain": [
       "<Figure size 432x288 with 1 Axes>"
      ]
     },
     "metadata": {
      "needs_background": "light"
     }
    }
   ],
   "metadata": {}
  },
  {
   "cell_type": "code",
   "execution_count": null,
   "source": [
    "# Plot 2\r\n",
    "\r\n",
    "title = 'Boxplot of plaintext and encrypted shannon entropy'\r\n",
    "ax = df.plot(y=['plaintext_shannon','encrypted_shannon'],kind='box',title=title, grid=True)\r\n",
    "ax.xaxis.grid(True, which='major', linestyle='-', linewidth=1)\r\n",
    "ymajortick = arange(0,1.1,0.1)\r\n",
    "yminortick = arange(0,1.1,0.05)\r\n",
    "ax.set_yticks( ymajortick, minor=False )\r\n",
    "ax.set_yticks( yminortick, minor=True )\r\n",
    "ax.grid('on', which='both', axis='x' )\r\n",
    "plt.savefig('Plots/rfc761/Comparison/udpshannonboxcomparison.png', transparent=False)"
   ],
   "outputs": [
    {
     "output_type": "display_data",
     "data": {
      "image/png": "[encoded data removed]",
      "text/plain": [
       "<Figure size 432x288 with 1 Axes>"
      ]
     },
     "metadata": {
      "needs_background": "light"
     }
    }
   ],
   "metadata": {}
  },
  {
   "cell_type": "code",
   "execution_count": null,
   "source": [
    "# Plot 3\r\n",
    "\r\n",
    "title = 'Density plot of plaintext and encrypted shannon entropy'\r\n",
    "ax = df.plot(y=['plaintext_shannon','encrypted_shannon'],kind='density',title=title, grid=True)\r\n",
    "ax.xaxis.grid(True, which='major', linestyle='-', linewidth=1)\r\n",
    "ymajortick = arange(0,210,20)\r\n",
    "yminortick = arange(0,210,10)\r\n",
    "ax.set_yticks( ymajortick, minor=False )\r\n",
    "ax.set_yticks( yminortick, minor=True )\r\n",
    "ax.grid('on', which='both', axis='x' )\r\n",
    "plt.savefig('Plots/rfc761/Comparison/udpshannondensitycomparison.png', transparent=False)"
   ],
   "outputs": [
    {
     "output_type": "display_data",
     "data": {
      "image/png": "[encoded data removed]",
      "text/plain": [
       "<Figure size 432x288 with 1 Axes>"
      ]
     },
     "metadata": {
      "needs_background": "light"
     }
    }
   ],
   "metadata": {}
  }
 ],
 "metadata": {
  "orig_nbformat": 4,
  "language_info": {
   "name": "python",
   "version": "3.8.10",
   "mimetype": "text/x-python",
   "codemirror_mode": {
    "name": "ipython",
    "version": 3
   },
   "pygments_lexer": "ipython3",
   "nbconvert_exporter": "python",
   "file_extension": ".py"
  },
  "kernelspec": {
   "name": "python3",
   "display_name": "Python 3.8.10 64-bit (windows store)"
  },
  "interpreter": {
   "hash": "f471c8a6502c2f47f9cc901400d60311cb2fd752a8ad61f5ab492866eead49a8"
  }
 },
 "nbformat": 4,
 "nbformat_minor": 2
}