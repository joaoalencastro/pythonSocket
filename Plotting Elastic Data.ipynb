{
 "cells": [
  {
   "cell_type": "code",
   "execution_count": 38,
   "source": [
    "import pandas as pd"
   ],
   "outputs": [],
   "metadata": {}
  },
  {
   "cell_type": "code",
   "execution_count": 39,
   "source": [
    "df = pd.read_csv('Outputs/packets-2017.05.17-processed')\r\n",
    "type(df)"
   ],
   "outputs": [
    {
     "output_type": "execute_result",
     "data": {
      "text/plain": [
       "pandas.core.frame.DataFrame"
      ]
     },
     "metadata": {},
     "execution_count": 39
    }
   ],
   "metadata": {}
  },
  {
   "cell_type": "code",
   "execution_count": 40,
   "source": [
    "pd.set_option(\"display.max.columns\", None)\r\n",
    "df.head()"
   ],
   "outputs": [
    {
     "output_type": "execute_result",
     "data": {
      "text/html": [
       "<div>\n",
       "<style scoped>\n",
       "    .dataframe tbody tr th:only-of-type {\n",
       "        vertical-align: middle;\n",
       "    }\n",
       "\n",
       "    .dataframe tbody tr th {\n",
       "        vertical-align: top;\n",
       "    }\n",
       "\n",
       "    .dataframe thead th {\n",
       "        text-align: right;\n",
       "    }\n",
       "</style>\n",
       "<table border=\"1\" class=\"dataframe\">\n",
       "  <thead>\n",
       "    <tr style=\"text-align: right;\">\n",
       "      <th></th>\n",
       "      <th>id</th>\n",
       "      <th>proto</th>\n",
       "      <th>srcip</th>\n",
       "      <th>dstip</th>\n",
       "      <th>srcport</th>\n",
       "      <th>shannon</th>\n",
       "      <th>bien</th>\n",
       "      <th>tbien</th>\n",
       "    </tr>\n",
       "  </thead>\n",
       "  <tbody>\n",
       "    <tr>\n",
       "      <th>0</th>\n",
       "      <td>9-fmu3sBoMUFiBGPrEs-</td>\n",
       "      <td>tcp</td>\n",
       "      <td>192.168.200.135</td>\n",
       "      <td>192.168.200.21</td>\n",
       "      <td>2000</td>\n",
       "      <td>2.152079</td>\n",
       "      <td>0.952980</td>\n",
       "      <td>0.959673</td>\n",
       "    </tr>\n",
       "    <tr>\n",
       "      <th>1</th>\n",
       "      <td>_-fmu3sBoMUFiBGPrEs_</td>\n",
       "      <td>tcp</td>\n",
       "      <td>192.168.200.135</td>\n",
       "      <td>192.168.200.21</td>\n",
       "      <td>2000</td>\n",
       "      <td>3.219723</td>\n",
       "      <td>0.952886</td>\n",
       "      <td>0.997561</td>\n",
       "    </tr>\n",
       "    <tr>\n",
       "      <th>2</th>\n",
       "      <td>Aefmu3sBoMUFiBGPrEw_</td>\n",
       "      <td>tcp</td>\n",
       "      <td>192.168.200.135</td>\n",
       "      <td>192.168.200.21</td>\n",
       "      <td>2000</td>\n",
       "      <td>3.023888</td>\n",
       "      <td>0.920563</td>\n",
       "      <td>0.996206</td>\n",
       "    </tr>\n",
       "    <tr>\n",
       "      <th>3</th>\n",
       "      <td>A-fmu3sBoMUFiBGPrEw_</td>\n",
       "      <td>tcp</td>\n",
       "      <td>192.168.200.135</td>\n",
       "      <td>192.168.200.21</td>\n",
       "      <td>2000</td>\n",
       "      <td>3.065445</td>\n",
       "      <td>0.951387</td>\n",
       "      <td>0.996682</td>\n",
       "    </tr>\n",
       "    <tr>\n",
       "      <th>4</th>\n",
       "      <td>Befmu3sBoMUFiBGPrEw_</td>\n",
       "      <td>tcp</td>\n",
       "      <td>192.168.200.135</td>\n",
       "      <td>192.168.200.21</td>\n",
       "      <td>2000</td>\n",
       "      <td>3.251311</td>\n",
       "      <td>0.953171</td>\n",
       "      <td>0.997514</td>\n",
       "    </tr>\n",
       "  </tbody>\n",
       "</table>\n",
       "</div>"
      ],
      "text/plain": [
       "                     id proto            srcip           dstip  srcport  \\\n",
       "0  9-fmu3sBoMUFiBGPrEs-   tcp  192.168.200.135  192.168.200.21     2000   \n",
       "1  _-fmu3sBoMUFiBGPrEs_   tcp  192.168.200.135  192.168.200.21     2000   \n",
       "2  Aefmu3sBoMUFiBGPrEw_   tcp  192.168.200.135  192.168.200.21     2000   \n",
       "3  A-fmu3sBoMUFiBGPrEw_   tcp  192.168.200.135  192.168.200.21     2000   \n",
       "4  Befmu3sBoMUFiBGPrEw_   tcp  192.168.200.135  192.168.200.21     2000   \n",
       "\n",
       "    shannon      bien     tbien  \n",
       "0  2.152079  0.952980  0.959673  \n",
       "1  3.219723  0.952886  0.997561  \n",
       "2  3.023888  0.920563  0.996206  \n",
       "3  3.065445  0.951387  0.996682  \n",
       "4  3.251311  0.953171  0.997514  "
      ]
     },
     "metadata": {},
     "execution_count": 40
    }
   ],
   "metadata": {}
  },
  {
   "cell_type": "code",
   "execution_count": 41,
   "source": [
    "%matplotlib inline"
   ],
   "outputs": [],
   "metadata": {}
  },
  {
   "cell_type": "code",
   "execution_count": 42,
   "source": [
    "df.plot(x='id', y=['shannon','bien','tbien'])"
   ],
   "outputs": [
    {
     "output_type": "execute_result",
     "data": {
      "text/plain": [
       "<AxesSubplot:xlabel='id'>"
      ]
     },
     "metadata": {},
     "execution_count": 42
    },
    {
     "output_type": "display_data",
     "data": {
      "image/png": "[encoded data removed]",
      "text/plain": [
       "<Figure size 432x288 with 1 Axes>"
      ]
     },
     "metadata": {
      "needs_background": "light"
     }
    }
   ],
   "metadata": {}
  }
 ],
 "metadata": {
  "kernelspec": {
   "name": "python3",
   "display_name": "Python 3.9.7 64-bit"
  },
  "language_info": {
   "codemirror_mode": {
    "name": "ipython",
    "version": 3
   },
   "file_extension": ".py",
   "mimetype": "text/x-python",
   "name": "python",
   "nbconvert_exporter": "python",
   "pygments_lexer": "ipython3",
   "version": "3.9.7"
  },
  "interpreter": {
   "hash": "785fc1591f0f727a4e7c4c5b98924611543ba517ca83bd2e042af5339ebf9aa9"
  }
 },
 "nbformat": 4,
 "nbformat_minor": 5
}