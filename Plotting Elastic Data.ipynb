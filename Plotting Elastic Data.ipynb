{
 "cells": [
  {
   "cell_type": "code",
   "execution_count": 152,
   "source": [
    "import pandas as pd\r\n",
    "from numpy import arange\r\n",
    "import matplotlib.pyplot as plt\r\n",
    "%matplotlib inline"
   ],
   "outputs": [],
   "metadata": {}
  },
  {
   "cell_type": "code",
   "execution_count": 153,
   "source": [
    "# Read from CSV\r\n",
    "\r\n",
    "df = pd.read_csv('Outputs/packets-2021.09.20-processed')"
   ],
   "outputs": [],
   "metadata": {}
  },
  {
   "cell_type": "code",
   "execution_count": 154,
   "source": [
    "# Setting global var\r\n",
    "\r\n",
    "bytesize = 32\r\n",
    "proto = 'TCP'\r\n",
    "dstport = 8088\r\n",
    "encoding = 'plaintext'\r\n",
    "text = 'RFC761'"
   ],
   "outputs": [],
   "metadata": {}
  },
  {
   "cell_type": "code",
   "execution_count": 155,
   "source": [
    "# Add a new column to the end called 'flow'\r\n",
    "\r\n",
    "df['flow'] = df['srcip'] + ':' + df.srcport.map(str) + ' -> ' + df['dstip'] + ':' + df.dstport.map(str)\r\n",
    "# Read a specific location (R,C)\r\n",
    "print('Example of flow {}'.format(df.iloc[5,10]))"
   ],
   "outputs": [
    {
     "output_type": "stream",
     "name": "stdout",
     "text": [
      "Example of flow 127.0.0.1:31040 -> 127.0.0.1:8088\n"
     ]
    }
   ],
   "metadata": {}
  },
  {
   "cell_type": "code",
   "execution_count": 156,
   "source": [
    "# Sort dataframe by an index (column) and show\r\n",
    "\r\n",
    "df = df.sort_values(['payload_size','flow'])\r\n",
    "print(df.iloc[:,6:11])"
   ],
   "outputs": [
    {
     "output_type": "stream",
     "name": "stdout",
     "text": [
      "      payload_size   shannon      bien     tbien  \\\n",
      "9                1 -0.000000  0.000000  0.000000   \n",
      "10               1 -0.000000  0.000000  0.000000   \n",
      "13               1 -0.000000  0.000000  0.000000   \n",
      "18               1 -0.000000  0.000000  0.000000   \n",
      "19               1 -0.000000  0.000000  0.000000   \n",
      "...            ...       ...       ...       ...   \n",
      "4976            32  0.489167  0.460149  0.977155   \n",
      "4978            32  0.501931  0.951538  0.965952   \n",
      "4980            32  0.486358  0.945300  0.975180   \n",
      "4982            32  0.505997  0.942306  0.979225   \n",
      "4984            32  0.523969  0.475579  0.977323   \n",
      "\n",
      "                                   flow  \n",
      "9      127.0.0.1:1033 -> 127.0.0.1:1034  \n",
      "10     127.0.0.1:1033 -> 127.0.0.1:1034  \n",
      "13     127.0.0.1:1033 -> 127.0.0.1:1034  \n",
      "18     127.0.0.1:1033 -> 127.0.0.1:1034  \n",
      "19     127.0.0.1:1033 -> 127.0.0.1:1034  \n",
      "...                                 ...  \n",
      "4976  127.0.0.1:8088 -> 127.0.0.1:31040  \n",
      "4978  127.0.0.1:8088 -> 127.0.0.1:31040  \n",
      "4980  127.0.0.1:8088 -> 127.0.0.1:31040  \n",
      "4982  127.0.0.1:8088 -> 127.0.0.1:31040  \n",
      "4984  127.0.0.1:8088 -> 127.0.0.1:31040  \n",
      "\n",
      "[4985 rows x 5 columns]\n"
     ]
    }
   ],
   "metadata": {}
  },
  {
   "cell_type": "code",
   "execution_count": 157,
   "source": [
    "# Filtering by port\r\n",
    "\r\n",
    "is_port = df['dstport']==dstport\r\n",
    "print(is_port.head())\r\n",
    "df = df[is_port]"
   ],
   "outputs": [
    {
     "output_type": "stream",
     "name": "stdout",
     "text": [
      "9     False\n",
      "10    False\n",
      "13    False\n",
      "18    False\n",
      "19    False\n",
      "Name: dstport, dtype: bool\n"
     ]
    }
   ],
   "metadata": {}
  },
  {
   "cell_type": "code",
   "execution_count": 158,
   "source": [
    "# Filtering by the number of packets of chosen size\r\n",
    "\r\n",
    "is_bytes = df['payload_size']==bytesize\r\n",
    "print(is_bytes.head())\r\n",
    "df = df[is_bytes]"
   ],
   "outputs": [
    {
     "output_type": "stream",
     "name": "stdout",
     "text": [
      "1     True\n",
      "3     True\n",
      "5     True\n",
      "7     True\n",
      "11    True\n",
      "Name: payload_size, dtype: bool\n"
     ]
    }
   ],
   "metadata": {}
  },
  {
   "cell_type": "code",
   "execution_count": 159,
   "source": [
    "# Minimize number of displayed columns\r\n",
    "\r\n",
    "# pd.set_option(\"display.max.columns\", None)\r\n",
    "# df.head()"
   ],
   "outputs": [],
   "metadata": {}
  },
  {
   "cell_type": "code",
   "execution_count": 160,
   "source": [
    "# Aggregation by flow and each entropies mean\r\n",
    "\r\n",
    "df[['flow','shannon','bien','tbien','payload_size']].groupby('flow').mean().sort_values('tbien', ascending=False)"
   ],
   "outputs": [
    {
     "output_type": "execute_result",
     "data": {
      "text/html": [
       "<div>\n",
       "<style scoped>\n",
       "    .dataframe tbody tr th:only-of-type {\n",
       "        vertical-align: middle;\n",
       "    }\n",
       "\n",
       "    .dataframe tbody tr th {\n",
       "        vertical-align: top;\n",
       "    }\n",
       "\n",
       "    .dataframe thead th {\n",
       "        text-align: right;\n",
       "    }\n",
       "</style>\n",
       "<table border=\"1\" class=\"dataframe\">\n",
       "  <thead>\n",
       "    <tr style=\"text-align: right;\">\n",
       "      <th></th>\n",
       "      <th>shannon</th>\n",
       "      <th>bien</th>\n",
       "      <th>tbien</th>\n",
       "      <th>payload_size</th>\n",
       "    </tr>\n",
       "    <tr>\n",
       "      <th>flow</th>\n",
       "      <th></th>\n",
       "      <th></th>\n",
       "      <th></th>\n",
       "      <th></th>\n",
       "    </tr>\n",
       "  </thead>\n",
       "  <tbody>\n",
       "    <tr>\n",
       "      <th>127.0.0.1:31040 -&gt; 127.0.0.1:8088</th>\n",
       "      <td>0.456601</td>\n",
       "      <td>0.590458</td>\n",
       "      <td>0.881115</td>\n",
       "      <td>32</td>\n",
       "    </tr>\n",
       "  </tbody>\n",
       "</table>\n",
       "</div>"
      ],
      "text/plain": [
       "                                    shannon      bien     tbien  payload_size\n",
       "flow                                                                         \n",
       "127.0.0.1:31040 -> 127.0.0.1:8088  0.456601  0.590458  0.881115            32"
      ]
     },
     "metadata": {},
     "execution_count": 160
    }
   ],
   "metadata": {}
  },
  {
   "cell_type": "code",
   "execution_count": 161,
   "source": [
    "# Plot 1\r\n",
    "\r\n",
    "title = 'PDF of {} byte {} chunks of the {} text in {}'.format(bytesize, proto, text, encoding)\r\n",
    "ax = df.plot(x='payload_size', y=['shannon','bien','tbien'],kind='density',title=title, grid=True)\r\n",
    "ax.xaxis.grid(True, which='major', linestyle='-', linewidth=1)\r\n",
    "ymajortick = arange(0,110,10)\r\n",
    "yminortick = arange(0,110,5)\r\n",
    "ax.set_yticks( ymajortick, minor=False )\r\n",
    "ax.set_yticks( yminortick, minor=True )\r\n",
    "ax.grid('on', which='both', axis='x' )\r\n",
    "plt.savefig('Plots/rfc761/{}{}bytes{}{}density.png'.format(proto, bytesize, encoding, text), transparent=False)\r\n"
   ],
   "outputs": [
    {
     "output_type": "display_data",
     "data": {
      "image/png": "[encoded data removed]",
      "text/plain": [
       "<Figure size 432x288 with 1 Axes>"
      ]
     },
     "metadata": {
      "needs_background": "light"
     }
    }
   ],
   "metadata": {}
  },
  {
   "cell_type": "code",
   "execution_count": 162,
   "source": [
    "# Plot 2\r\n",
    "\r\n",
    "title = 'Boxplot of {} byte {} chunks of the {} text in {}'.format(bytesize, proto, text, encoding)\r\n",
    "ax = df.plot(x='payload_size', y=['shannon','bien','tbien'],kind='box',title=title, grid=True)\r\n",
    "ax.xaxis.grid(True, which='major', linestyle='-', linewidth=1)\r\n",
    "ymajortick = arange(0,1.1,0.1)\r\n",
    "yminortick = arange(0,1.1,0.05)\r\n",
    "ax.set_yticks( ymajortick, minor=False )\r\n",
    "ax.set_yticks( yminortick, minor=True )\r\n",
    "ax.grid('on', which='both', axis='x' )\r\n",
    "plt.savefig('Plots/rfc761/{}{}bytes{}{}box.png'.format(proto, bytesize, encoding, text), transparent=False)"
   ],
   "outputs": [
    {
     "output_type": "display_data",
     "data": {
      "image/png": "[encoded data removed]",
      "text/plain": [
       "<Figure size 432x288 with 1 Axes>"
      ]
     },
     "metadata": {
      "needs_background": "light"
     }
    }
   ],
   "metadata": {}
  },
  {
   "cell_type": "code",
   "execution_count": 163,
   "source": [
    "# Table of data\r\n",
    "\r\n",
    "df = df.describe()\r\n",
    "print(df)"
   ],
   "outputs": [
    {
     "output_type": "stream",
     "name": "stdout",
     "text": [
      "       srcport  dstport  payload_size      shannon          bien        tbien\n",
      "count   2283.0   2283.0        2283.0  2283.000000  2.283000e+03  2283.000000\n",
      "mean   31040.0   8088.0          32.0     0.456601  5.904582e-01     0.881115\n",
      "std        0.0      0.0           0.0     0.103457  3.584089e-01     0.248070\n",
      "min    31040.0   8088.0          32.0     0.166667  2.526177e-76     0.003925\n",
      "25%    31040.0   8088.0          32.0     0.470086  2.428918e-01     0.959074\n",
      "50%    31040.0   8088.0          32.0     0.496094  4.754281e-01     0.971618\n",
      "75%    31040.0   8088.0          32.0     0.514539  9.480536e-01     0.977463\n",
      "max    31040.0   8088.0          32.0     0.571311  9.534798e-01     0.988840\n"
     ]
    }
   ],
   "metadata": {}
  },
  {
   "cell_type": "code",
   "execution_count": 164,
   "source": [
    "# Exporting new data\r\n",
    "\r\n",
    "filename = 'Outputs/RFC761/{}{}bytes{}{}data.csv'.format(proto, bytesize, encoding, text)\r\n",
    "df.to_csv(filename,',')"
   ],
   "outputs": [],
   "metadata": {}
  }
 ],
 "metadata": {
  "kernelspec": {
   "name": "python3",
   "display_name": "Python 3.8.10 64-bit (windows store)"
  },
  "language_info": {
   "codemirror_mode": {
    "name": "ipython",
    "version": 3
   },
   "file_extension": ".py",
   "mimetype": "text/x-python",
   "name": "python",
   "nbconvert_exporter": "python",
   "pygments_lexer": "ipython3",
   "version": "3.8.10"
  },
  "interpreter": {
   "hash": "f471c8a6502c2f47f9cc901400d60311cb2fd752a8ad61f5ab492866eead49a8"
  }
 },
 "nbformat": 4,
 "nbformat_minor": 5
}