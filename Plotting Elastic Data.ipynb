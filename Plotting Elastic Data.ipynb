{
 "cells": [
  {
   "cell_type": "code",
   "execution_count": 66,
   "source": [
    "import pandas as pd\r\n",
    "from numpy import arange\r\n",
    "import matplotlib.pyplot as plt\r\n",
    "%matplotlib inline"
   ],
   "outputs": [],
   "metadata": {}
  },
  {
   "cell_type": "code",
   "execution_count": 67,
   "source": [
    "# Read from CSV\r\n",
    "\r\n",
    "df = pd.read_csv('Outputs/packets-tcp-rfc761-plaintext-dinamico-2021.09.27-processed')\r\n"
   ],
   "outputs": [],
   "metadata": {}
  },
  {
   "cell_type": "code",
   "execution_count": 68,
   "source": [
    "# Setting global var\r\n",
    "\r\n",
    "bytesize = 32\r\n",
    "proto = 'TCP'\r\n",
    "srcport = 80\r\n",
    "encoding = 'plaintext'\r\n",
    "text = 'HTTP'"
   ],
   "outputs": [],
   "metadata": {}
  },
  {
   "cell_type": "code",
   "execution_count": 69,
   "source": [
    "# Add a new column to the end called 'flow'\r\n",
    "\r\n",
    "df['flow'] = df['srcip'] + ':' + df.srcport.map(str) + ' -> ' + df['dstip'] + ':' + df.dstport.map(str)\r\n",
    "# Read a specific location (R,C)\r\n",
    "print('Example of flow {}'.format(df.iloc[5,10]))"
   ],
   "outputs": [
    {
     "output_type": "stream",
     "name": "stdout",
     "text": [
      "Example of flow 192.168.0.1:80 -> 192.168.0.119:1054\n"
     ]
    }
   ],
   "metadata": {}
  },
  {
   "cell_type": "code",
   "execution_count": 70,
   "source": [
    "# Sort dataframe by an index (column) and show\r\n",
    "\r\n",
    "df = df.sort_values(['payload_size','flow'])\r\n",
    "print(df.iloc[:,6:11])"
   ],
   "outputs": [
    {
     "output_type": "stream",
     "name": "stdout",
     "text": [
      "     payload_size   shannon      bien     tbien  \\\n",
      "273             1 -0.000000  0.000000  0.000000   \n",
      "219             5  0.530103  0.477113  0.860083   \n",
      "245             5  0.530103  0.477113  0.860083   \n",
      "288             5  0.530103  0.477113  0.860083   \n",
      "222             5  0.530103  0.477113  0.860083   \n",
      "..            ...       ...       ...       ...   \n",
      "276          1460  0.297409  0.599001  0.978848   \n",
      "277          1460  0.298132  0.594225  0.978804   \n",
      "278          1460  0.299847  0.614111  0.979566   \n",
      "280          1460  0.299349  0.565068  0.978128   \n",
      "281          1460  0.294409  0.670219  0.979994   \n",
      "\n",
      "                                     flow  \n",
      "273  192.168.0.119:1051 -> 192.168.0.1:80  \n",
      "219  192.168.0.1:80 -> 192.168.0.119:1060  \n",
      "245  192.168.0.1:80 -> 192.168.0.119:1062  \n",
      "288  192.168.0.1:80 -> 192.168.0.119:1064  \n",
      "222  192.168.0.1:80 -> 192.168.0.119:1066  \n",
      "..                                    ...  \n",
      "276  192.168.0.1:80 -> 192.168.0.119:1078  \n",
      "277  192.168.0.1:80 -> 192.168.0.119:1078  \n",
      "278  192.168.0.1:80 -> 192.168.0.119:1078  \n",
      "280  192.168.0.1:80 -> 192.168.0.119:1078  \n",
      "281  192.168.0.1:80 -> 192.168.0.119:1078  \n",
      "\n",
      "[290 rows x 5 columns]\n"
     ]
    }
   ],
   "metadata": {}
  },
  {
   "cell_type": "code",
   "execution_count": 71,
   "source": [
    "# Filtering by port\r\n",
    "\r\n",
    "is_port = df['srcport']==srcport\r\n",
    "print(is_port.head())\r\n",
    "df = df[is_port]"
   ],
   "outputs": [
    {
     "output_type": "stream",
     "name": "stdout",
     "text": [
      "273    False\n",
      "219     True\n",
      "245     True\n",
      "288     True\n",
      "222     True\n",
      "Name: srcport, dtype: bool\n"
     ]
    }
   ],
   "metadata": {}
  },
  {
   "cell_type": "code",
   "execution_count": 72,
   "source": [
    "# Filtering by the number of packets of chosen size\r\n",
    "\r\n",
    "is_bytes = df['payload_size']>2\r\n",
    "print(is_bytes.head())\r\n",
    "df = df[is_bytes]"
   ],
   "outputs": [
    {
     "output_type": "stream",
     "name": "stdout",
     "text": [
      "219    True\n",
      "245    True\n",
      "288    True\n",
      "222    True\n",
      "229    True\n",
      "Name: payload_size, dtype: bool\n"
     ]
    }
   ],
   "metadata": {}
  },
  {
   "cell_type": "code",
   "execution_count": 73,
   "source": [
    "# Minimize number of displayed columns\r\n",
    "\r\n",
    "# pd.set_option(\"display.max.columns\", None)\r\n",
    "# df.head()"
   ],
   "outputs": [],
   "metadata": {}
  },
  {
   "cell_type": "code",
   "execution_count": 74,
   "source": [
    "# Aggregation by flow and each entropies mean\r\n",
    "\r\n",
    "df[['flow','shannon','bien','tbien','payload_size']].groupby('flow').mean().sort_values('tbien', ascending=False)"
   ],
   "outputs": [
    {
     "output_type": "execute_result",
     "data": {
      "text/html": [
       "<div>\n",
       "<style scoped>\n",
       "    .dataframe tbody tr th:only-of-type {\n",
       "        vertical-align: middle;\n",
       "    }\n",
       "\n",
       "    .dataframe tbody tr th {\n",
       "        vertical-align: top;\n",
       "    }\n",
       "\n",
       "    .dataframe thead th {\n",
       "        text-align: right;\n",
       "    }\n",
       "</style>\n",
       "<table border=\"1\" class=\"dataframe\">\n",
       "  <thead>\n",
       "    <tr style=\"text-align: right;\">\n",
       "      <th></th>\n",
       "      <th>shannon</th>\n",
       "      <th>bien</th>\n",
       "      <th>tbien</th>\n",
       "      <th>payload_size</th>\n",
       "    </tr>\n",
       "    <tr>\n",
       "      <th>flow</th>\n",
       "      <th></th>\n",
       "      <th></th>\n",
       "      <th></th>\n",
       "      <th></th>\n",
       "    </tr>\n",
       "  </thead>\n",
       "  <tbody>\n",
       "    <tr>\n",
       "      <th>192.168.0.1:80 -&gt; 192.168.0.119:1074</th>\n",
       "      <td>0.459490</td>\n",
       "      <td>0.825880</td>\n",
       "      <td>0.983347</td>\n",
       "      <td>97.500000</td>\n",
       "    </tr>\n",
       "    <tr>\n",
       "      <th>192.168.0.1:80 -&gt; 192.168.0.119:1045</th>\n",
       "      <td>0.450644</td>\n",
       "      <td>0.758350</td>\n",
       "      <td>0.980266</td>\n",
       "      <td>111.500000</td>\n",
       "    </tr>\n",
       "    <tr>\n",
       "      <th>192.168.0.1:80 -&gt; 192.168.0.119:1031</th>\n",
       "      <td>0.451397</td>\n",
       "      <td>0.657500</td>\n",
       "      <td>0.979959</td>\n",
       "      <td>94.000000</td>\n",
       "    </tr>\n",
       "    <tr>\n",
       "      <th>192.168.0.1:80 -&gt; 192.168.0.119:1061</th>\n",
       "      <td>0.443833</td>\n",
       "      <td>0.786182</td>\n",
       "      <td>0.979885</td>\n",
       "      <td>368.000000</td>\n",
       "    </tr>\n",
       "    <tr>\n",
       "      <th>192.168.0.1:80 -&gt; 192.168.0.119:1037</th>\n",
       "      <td>0.418848</td>\n",
       "      <td>0.762728</td>\n",
       "      <td>0.979642</td>\n",
       "      <td>170.000000</td>\n",
       "    </tr>\n",
       "    <tr>\n",
       "      <th>192.168.0.1:80 -&gt; 192.168.0.119:1054</th>\n",
       "      <td>0.446066</td>\n",
       "      <td>0.746885</td>\n",
       "      <td>0.979594</td>\n",
       "      <td>129.500000</td>\n",
       "    </tr>\n",
       "    <tr>\n",
       "      <th>192.168.0.1:80 -&gt; 192.168.0.119:1038</th>\n",
       "      <td>0.430060</td>\n",
       "      <td>0.600449</td>\n",
       "      <td>0.978858</td>\n",
       "      <td>166.000000</td>\n",
       "    </tr>\n",
       "    <tr>\n",
       "      <th>192.168.0.1:80 -&gt; 192.168.0.119:1068</th>\n",
       "      <td>0.403475</td>\n",
       "      <td>0.707959</td>\n",
       "      <td>0.978285</td>\n",
       "      <td>540.714286</td>\n",
       "    </tr>\n",
       "    <tr>\n",
       "      <th>192.168.0.1:80 -&gt; 192.168.0.119:1052</th>\n",
       "      <td>0.422831</td>\n",
       "      <td>0.741490</td>\n",
       "      <td>0.978067</td>\n",
       "      <td>348.916667</td>\n",
       "    </tr>\n",
       "    <tr>\n",
       "      <th>192.168.0.1:80 -&gt; 192.168.0.119:1051</th>\n",
       "      <td>0.418604</td>\n",
       "      <td>0.735303</td>\n",
       "      <td>0.977669</td>\n",
       "      <td>483.666667</td>\n",
       "    </tr>\n",
       "    <tr>\n",
       "      <th>192.168.0.1:80 -&gt; 192.168.0.119:1032</th>\n",
       "      <td>0.338121</td>\n",
       "      <td>0.689315</td>\n",
       "      <td>0.977031</td>\n",
       "      <td>1058.500000</td>\n",
       "    </tr>\n",
       "    <tr>\n",
       "      <th>192.168.0.1:80 -&gt; 192.168.0.119:1035</th>\n",
       "      <td>0.401986</td>\n",
       "      <td>0.696155</td>\n",
       "      <td>0.976956</td>\n",
       "      <td>236.000000</td>\n",
       "    </tr>\n",
       "    <tr>\n",
       "      <th>192.168.0.1:80 -&gt; 192.168.0.119:1053</th>\n",
       "      <td>0.357413</td>\n",
       "      <td>0.697428</td>\n",
       "      <td>0.976722</td>\n",
       "      <td>903.734694</td>\n",
       "    </tr>\n",
       "    <tr>\n",
       "      <th>192.168.0.1:80 -&gt; 192.168.0.119:1039</th>\n",
       "      <td>0.417006</td>\n",
       "      <td>0.745829</td>\n",
       "      <td>0.975285</td>\n",
       "      <td>472.565217</td>\n",
       "    </tr>\n",
       "    <tr>\n",
       "      <th>192.168.0.1:80 -&gt; 192.168.0.119:1078</th>\n",
       "      <td>0.322695</td>\n",
       "      <td>0.628981</td>\n",
       "      <td>0.972967</td>\n",
       "      <td>1205.894737</td>\n",
       "    </tr>\n",
       "    <tr>\n",
       "      <th>192.168.0.1:80 -&gt; 192.168.0.119:1077</th>\n",
       "      <td>0.334142</td>\n",
       "      <td>0.629042</td>\n",
       "      <td>0.968206</td>\n",
       "      <td>1145.600000</td>\n",
       "    </tr>\n",
       "    <tr>\n",
       "      <th>192.168.0.1:80 -&gt; 192.168.0.119:1062</th>\n",
       "      <td>0.340631</td>\n",
       "      <td>0.614054</td>\n",
       "      <td>0.967522</td>\n",
       "      <td>1115.600000</td>\n",
       "    </tr>\n",
       "    <tr>\n",
       "      <th>192.168.0.1:80 -&gt; 192.168.0.119:1064</th>\n",
       "      <td>0.385844</td>\n",
       "      <td>0.693913</td>\n",
       "      <td>0.967328</td>\n",
       "      <td>696.818182</td>\n",
       "    </tr>\n",
       "    <tr>\n",
       "      <th>192.168.0.1:80 -&gt; 192.168.0.119:1070</th>\n",
       "      <td>0.484815</td>\n",
       "      <td>0.709719</td>\n",
       "      <td>0.942815</td>\n",
       "      <td>65.000000</td>\n",
       "    </tr>\n",
       "    <tr>\n",
       "      <th>192.168.0.1:80 -&gt; 192.168.0.119:1060</th>\n",
       "      <td>0.472761</td>\n",
       "      <td>0.709072</td>\n",
       "      <td>0.942774</td>\n",
       "      <td>79.666667</td>\n",
       "    </tr>\n",
       "    <tr>\n",
       "      <th>192.168.0.1:80 -&gt; 192.168.0.119:1067</th>\n",
       "      <td>0.459961</td>\n",
       "      <td>0.650515</td>\n",
       "      <td>0.941192</td>\n",
       "      <td>136.000000</td>\n",
       "    </tr>\n",
       "    <tr>\n",
       "      <th>192.168.0.1:80 -&gt; 192.168.0.119:1069</th>\n",
       "      <td>0.440299</td>\n",
       "      <td>0.627044</td>\n",
       "      <td>0.940784</td>\n",
       "      <td>357.333333</td>\n",
       "    </tr>\n",
       "    <tr>\n",
       "      <th>192.168.0.1:80 -&gt; 192.168.0.119:1071</th>\n",
       "      <td>0.460209</td>\n",
       "      <td>0.580837</td>\n",
       "      <td>0.940464</td>\n",
       "      <td>122.333333</td>\n",
       "    </tr>\n",
       "    <tr>\n",
       "      <th>192.168.0.1:80 -&gt; 192.168.0.119:1066</th>\n",
       "      <td>0.450980</td>\n",
       "      <td>0.630038</td>\n",
       "      <td>0.940324</td>\n",
       "      <td>200.000000</td>\n",
       "    </tr>\n",
       "  </tbody>\n",
       "</table>\n",
       "</div>"
      ],
      "text/plain": [
       "                                       shannon      bien     tbien  \\\n",
       "flow                                                                 \n",
       "192.168.0.1:80 -> 192.168.0.119:1074  0.459490  0.825880  0.983347   \n",
       "192.168.0.1:80 -> 192.168.0.119:1045  0.450644  0.758350  0.980266   \n",
       "192.168.0.1:80 -> 192.168.0.119:1031  0.451397  0.657500  0.979959   \n",
       "192.168.0.1:80 -> 192.168.0.119:1061  0.443833  0.786182  0.979885   \n",
       "192.168.0.1:80 -> 192.168.0.119:1037  0.418848  0.762728  0.979642   \n",
       "192.168.0.1:80 -> 192.168.0.119:1054  0.446066  0.746885  0.979594   \n",
       "192.168.0.1:80 -> 192.168.0.119:1038  0.430060  0.600449  0.978858   \n",
       "192.168.0.1:80 -> 192.168.0.119:1068  0.403475  0.707959  0.978285   \n",
       "192.168.0.1:80 -> 192.168.0.119:1052  0.422831  0.741490  0.978067   \n",
       "192.168.0.1:80 -> 192.168.0.119:1051  0.418604  0.735303  0.977669   \n",
       "192.168.0.1:80 -> 192.168.0.119:1032  0.338121  0.689315  0.977031   \n",
       "192.168.0.1:80 -> 192.168.0.119:1035  0.401986  0.696155  0.976956   \n",
       "192.168.0.1:80 -> 192.168.0.119:1053  0.357413  0.697428  0.976722   \n",
       "192.168.0.1:80 -> 192.168.0.119:1039  0.417006  0.745829  0.975285   \n",
       "192.168.0.1:80 -> 192.168.0.119:1078  0.322695  0.628981  0.972967   \n",
       "192.168.0.1:80 -> 192.168.0.119:1077  0.334142  0.629042  0.968206   \n",
       "192.168.0.1:80 -> 192.168.0.119:1062  0.340631  0.614054  0.967522   \n",
       "192.168.0.1:80 -> 192.168.0.119:1064  0.385844  0.693913  0.967328   \n",
       "192.168.0.1:80 -> 192.168.0.119:1070  0.484815  0.709719  0.942815   \n",
       "192.168.0.1:80 -> 192.168.0.119:1060  0.472761  0.709072  0.942774   \n",
       "192.168.0.1:80 -> 192.168.0.119:1067  0.459961  0.650515  0.941192   \n",
       "192.168.0.1:80 -> 192.168.0.119:1069  0.440299  0.627044  0.940784   \n",
       "192.168.0.1:80 -> 192.168.0.119:1071  0.460209  0.580837  0.940464   \n",
       "192.168.0.1:80 -> 192.168.0.119:1066  0.450980  0.630038  0.940324   \n",
       "\n",
       "                                      payload_size  \n",
       "flow                                                \n",
       "192.168.0.1:80 -> 192.168.0.119:1074     97.500000  \n",
       "192.168.0.1:80 -> 192.168.0.119:1045    111.500000  \n",
       "192.168.0.1:80 -> 192.168.0.119:1031     94.000000  \n",
       "192.168.0.1:80 -> 192.168.0.119:1061    368.000000  \n",
       "192.168.0.1:80 -> 192.168.0.119:1037    170.000000  \n",
       "192.168.0.1:80 -> 192.168.0.119:1054    129.500000  \n",
       "192.168.0.1:80 -> 192.168.0.119:1038    166.000000  \n",
       "192.168.0.1:80 -> 192.168.0.119:1068    540.714286  \n",
       "192.168.0.1:80 -> 192.168.0.119:1052    348.916667  \n",
       "192.168.0.1:80 -> 192.168.0.119:1051    483.666667  \n",
       "192.168.0.1:80 -> 192.168.0.119:1032   1058.500000  \n",
       "192.168.0.1:80 -> 192.168.0.119:1035    236.000000  \n",
       "192.168.0.1:80 -> 192.168.0.119:1053    903.734694  \n",
       "192.168.0.1:80 -> 192.168.0.119:1039    472.565217  \n",
       "192.168.0.1:80 -> 192.168.0.119:1078   1205.894737  \n",
       "192.168.0.1:80 -> 192.168.0.119:1077   1145.600000  \n",
       "192.168.0.1:80 -> 192.168.0.119:1062   1115.600000  \n",
       "192.168.0.1:80 -> 192.168.0.119:1064    696.818182  \n",
       "192.168.0.1:80 -> 192.168.0.119:1070     65.000000  \n",
       "192.168.0.1:80 -> 192.168.0.119:1060     79.666667  \n",
       "192.168.0.1:80 -> 192.168.0.119:1067    136.000000  \n",
       "192.168.0.1:80 -> 192.168.0.119:1069    357.333333  \n",
       "192.168.0.1:80 -> 192.168.0.119:1071    122.333333  \n",
       "192.168.0.1:80 -> 192.168.0.119:1066    200.000000  "
      ]
     },
     "metadata": {},
     "execution_count": 74
    }
   ],
   "metadata": {}
  },
  {
   "cell_type": "code",
   "execution_count": 75,
   "source": [
    "# Plot 1\r\n",
    "\r\n",
    "title = 'PDF of {} packets, {} text in {}'.format(proto, text, encoding)\r\n",
    "ax = df.plot(x='payload_size', y=['shannon','bien','tbien'],kind='density',title=title, grid=True)\r\n",
    "ax.xaxis.grid(True, which='major', linestyle='-', linewidth=1)\r\n",
    "ymajortick = arange(0,110,10)\r\n",
    "yminortick = arange(0,110,5)\r\n",
    "ax.set_yticks( ymajortick, minor=False )\r\n",
    "ax.set_yticks( yminortick, minor=True )\r\n",
    "ax.grid('on', which='both', axis='x' )\r\n",
    "plt.savefig('Plots/rfc761/{}{}{}density.png'.format(proto, encoding, text), transparent=False)\r\n"
   ],
   "outputs": [
    {
     "output_type": "display_data",
     "data": {
      "image/png": "[encoded data removed]",
      "text/plain": [
       "<Figure size 432x288 with 1 Axes>"
      ]
     },
     "metadata": {
      "needs_background": "light"
     }
    }
   ],
   "metadata": {}
  },
  {
   "cell_type": "code",
   "execution_count": 76,
   "source": [
    "# Plot 2\r\n",
    "\r\n",
    "title = 'Boxplot of {} packets, {} text in {}'.format(proto, text, encoding)\r\n",
    "ax = df.plot(x='payload_size', y=['shannon','bien','tbien'],kind='box',title=title, grid=True)\r\n",
    "ax.xaxis.grid(True, which='major', linestyle='-', linewidth=1)\r\n",
    "ymajortick = arange(0,1.1,0.1)\r\n",
    "yminortick = arange(0,1.1,0.05)\r\n",
    "ax.set_yticks( ymajortick, minor=False )\r\n",
    "ax.set_yticks( yminortick, minor=True )\r\n",
    "ax.grid('on', which='both', axis='x' )\r\n",
    "plt.savefig('Plots/rfc761/{}{}{}box.png'.format(proto, encoding, text), transparent=False)"
   ],
   "outputs": [
    {
     "output_type": "display_data",
     "data": {
      "image/png": "[encoded data removed]",
      "text/plain": [
       "<Figure size 432x288 with 1 Axes>"
      ]
     },
     "metadata": {
      "needs_background": "light"
     }
    }
   ],
   "metadata": {}
  },
  {
   "cell_type": "code",
   "execution_count": 77,
   "source": [
    "# Table of data\r\n",
    "\r\n",
    "df = df.describe()\r\n",
    "print(df)"
   ],
   "outputs": [
    {
     "output_type": "stream",
     "name": "stdout",
     "text": [
      "       srcport      dstport  payload_size     shannon        bien       tbien\n",
      "count    227.0   227.000000    227.000000  227.000000  227.000000  227.000000\n",
      "mean      80.0  1055.942731    713.193833    0.383637    0.691736    0.972369\n",
      "std        0.0    14.169370    641.910780    0.097720    0.152791    0.025999\n",
      "min       80.0  1031.000000      5.000000    0.247437    0.120274    0.860083\n",
      "25%       80.0  1051.000000     64.000000    0.296204    0.603715    0.975049\n",
      "50%       80.0  1053.000000    433.000000    0.345913    0.671161    0.978244\n",
      "75%       80.0  1067.500000   1460.000000    0.476424    0.722633    0.982645\n",
      "max       80.0  1078.000000   1460.000000    0.546253    0.953186    0.985718\n"
     ]
    }
   ],
   "metadata": {}
  },
  {
   "cell_type": "code",
   "execution_count": 78,
   "source": [
    "# Exporting new data\r\n",
    "\r\n",
    "filename = 'Outputs/RFC761/{}{}{}data.csv'.format(proto, encoding, text)\r\n",
    "df.to_csv(filename,',')"
   ],
   "outputs": [],
   "metadata": {}
  }
 ],
 "metadata": {
  "kernelspec": {
   "name": "python3",
   "display_name": "Python 3.8.10 64-bit (windows store)"
  },
  "language_info": {
   "codemirror_mode": {
    "name": "ipython",
    "version": 3
   },
   "file_extension": ".py",
   "mimetype": "text/x-python",
   "name": "python",
   "nbconvert_exporter": "python",
   "pygments_lexer": "ipython3",
   "version": "3.8.10"
  },
  "interpreter": {
   "hash": "f471c8a6502c2f47f9cc901400d60311cb2fd752a8ad61f5ab492866eead49a8"
  }
 },
 "nbformat": 4,
 "nbformat_minor": 5
}