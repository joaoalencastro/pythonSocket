{
 "cells": [
  {
   "cell_type": "code",
   "execution_count": 66,
   "source": [
    "import pandas as pd\r\n",
    "from numpy import arange\r\n",
    "import matplotlib.pyplot as plt\r\n",
    "%matplotlib inline"
   ],
   "outputs": [],
   "metadata": {}
  },
  {
   "cell_type": "code",
   "execution_count": 67,
   "source": [
    "# Read from CSV\r\n",
    "\r\n",
    "df = pd.read_csv('Outputs/packets-http-wout-comp-2021.10.01-processed')\r\n"
   ],
   "outputs": [],
   "metadata": {}
  },
  {
   "cell_type": "code",
   "execution_count": 68,
   "source": [
    "# Setting global var\r\n",
    "\r\n",
    "proto = 'TCP'\r\n",
    "srcport = 8080\r\n",
    "encoding = 'plaintext'\r\n",
    "text = 'HTTP'"
   ],
   "outputs": [],
   "metadata": {}
  },
  {
   "cell_type": "code",
   "execution_count": 69,
   "source": [
    "# Add a new column to the end called 'flow'\r\n",
    "\r\n",
    "df['flow'] = df['srcip'] + ':' + df.srcport.map(str) + ' -> ' + df['dstip'] + ':' + df.dstport.map(str)\r\n",
    "# Read a specific location (R,C)\r\n",
    "print('Example of flow {}'.format(df.iloc[5,10]))"
   ],
   "outputs": [
    {
     "output_type": "stream",
     "name": "stdout",
     "text": [
      "Example of flow 127.0.0.1:11511 -> 127.0.0.1:8080\n"
     ]
    }
   ],
   "metadata": {}
  },
  {
   "cell_type": "code",
   "execution_count": 70,
   "source": [
    "# Sort dataframe by an index (column) and show\r\n",
    "\r\n",
    "df = df.sort_values(['payload_size','flow'])\r\n",
    "print(df.iloc[:,6:11])"
   ],
   "outputs": [
    {
     "output_type": "stream",
     "name": "stdout",
     "text": [
      "    payload_size   shannon      bien     tbien  \\\n",
      "1            410  0.358754  0.624768  0.868867   \n",
      "8            410  0.358636  0.624691  0.868722   \n",
      "18           410  0.358962  0.624682  0.868586   \n",
      "37           410  0.358684  0.624752  0.868890   \n",
      "40           410  0.358695  0.624694  0.868713   \n",
      "42           410  0.358711  0.624765  0.868818   \n",
      "44           410  0.358954  0.624750  0.868780   \n",
      "47           410  0.358768  0.624746  0.868879   \n",
      "3            410  0.358962  0.624682  0.868586   \n",
      "10           410  0.358962  0.624764  0.868805   \n",
      "49           410  0.358754  0.624768  0.868867   \n",
      "2            410  0.358962  0.624682  0.868586   \n",
      "16           410  0.358962  0.624764  0.868805   \n",
      "48           410  0.358754  0.624768  0.868867   \n",
      "33           410  0.358962  0.624682  0.868586   \n",
      "34           410  0.358962  0.624682  0.868586   \n",
      "32           410  0.358962  0.624682  0.868586   \n",
      "38           410  0.358962  0.624764  0.868805   \n",
      "19           411  0.358548  0.617304  0.871684   \n",
      "22           411  0.358548  0.617304  0.871684   \n",
      "9            411  0.358548  0.617304  0.871684   \n",
      "21           411  0.358548  0.617304  0.871684   \n",
      "43           523  0.341219  0.566715  0.843706   \n",
      "31           528  0.342204  0.601953  0.866434   \n",
      "6            528  0.342204  0.601953  0.866434   \n",
      "13           529  0.341804  0.535859  0.850535   \n",
      "46           529  0.341804  0.535859  0.850535   \n",
      "7            529  0.341542  0.511469  0.845944   \n",
      "24           531  0.340584  0.588514  0.856467   \n",
      "27           531  0.340584  0.588514  0.856467   \n",
      "26           531  0.340406  0.583008  0.855295   \n",
      "29           531  0.340406  0.583008  0.855295   \n",
      "25           531  0.340472  0.588530  0.856660   \n",
      "30           531  0.340525  0.588370  0.856478   \n",
      "14           531  0.340525  0.588370  0.856478   \n",
      "28           531  0.340472  0.588530  0.856660   \n",
      "20           541  0.340357  0.583717  0.853100   \n",
      "41           543  0.340538  0.537412  0.851437   \n",
      "15           543  0.340538  0.537412  0.851437   \n",
      "39           545  0.338276  0.581138  0.842652   \n",
      "5            545  0.338276  0.581138  0.842652   \n",
      "4            554  0.337579  0.567934  0.838861   \n",
      "11           555  0.338011  0.597794  0.854601   \n",
      "17           566  0.337787  0.605038  0.855699   \n",
      "35           567  0.336709  0.608482  0.865410   \n",
      "36           571  0.335206  0.522637  0.846574   \n",
      "0            586  0.340028  0.663238  0.876175   \n",
      "45          1896  0.282496  0.596780  0.862239   \n",
      "23          8208  0.244217  0.567635  0.850661   \n",
      "12         10897  0.225656  0.531655  0.765651   \n",
      "\n",
      "                                 flow  \n",
      "1   127.0.0.1:8080 -> 127.0.0.1:11510  \n",
      "8   127.0.0.1:8080 -> 127.0.0.1:11510  \n",
      "18  127.0.0.1:8080 -> 127.0.0.1:11510  \n",
      "37  127.0.0.1:8080 -> 127.0.0.1:11510  \n",
      "40  127.0.0.1:8080 -> 127.0.0.1:11510  \n",
      "42  127.0.0.1:8080 -> 127.0.0.1:11510  \n",
      "44  127.0.0.1:8080 -> 127.0.0.1:11510  \n",
      "47  127.0.0.1:8080 -> 127.0.0.1:11510  \n",
      "3   127.0.0.1:8080 -> 127.0.0.1:11511  \n",
      "10  127.0.0.1:8080 -> 127.0.0.1:11511  \n",
      "49  127.0.0.1:8080 -> 127.0.0.1:11511  \n",
      "2   127.0.0.1:8080 -> 127.0.0.1:11512  \n",
      "16  127.0.0.1:8080 -> 127.0.0.1:11512  \n",
      "48  127.0.0.1:8080 -> 127.0.0.1:11512  \n",
      "33  127.0.0.1:8080 -> 127.0.0.1:11513  \n",
      "34  127.0.0.1:8080 -> 127.0.0.1:11514  \n",
      "32  127.0.0.1:8080 -> 127.0.0.1:11515  \n",
      "38  127.0.0.1:8080 -> 127.0.0.1:11515  \n",
      "19  127.0.0.1:8080 -> 127.0.0.1:11511  \n",
      "22  127.0.0.1:8080 -> 127.0.0.1:11512  \n",
      "9   127.0.0.1:8080 -> 127.0.0.1:11513  \n",
      "21  127.0.0.1:8080 -> 127.0.0.1:11514  \n",
      "43  127.0.0.1:11510 -> 127.0.0.1:8080  \n",
      "31  127.0.0.1:11513 -> 127.0.0.1:8080  \n",
      "6   127.0.0.1:11514 -> 127.0.0.1:8080  \n",
      "13  127.0.0.1:11510 -> 127.0.0.1:8080  \n",
      "46  127.0.0.1:11514 -> 127.0.0.1:8080  \n",
      "7   127.0.0.1:11515 -> 127.0.0.1:8080  \n",
      "24  127.0.0.1:11510 -> 127.0.0.1:8080  \n",
      "27  127.0.0.1:11510 -> 127.0.0.1:8080  \n",
      "26  127.0.0.1:11511 -> 127.0.0.1:8080  \n",
      "29  127.0.0.1:11511 -> 127.0.0.1:8080  \n",
      "25  127.0.0.1:11512 -> 127.0.0.1:8080  \n",
      "30  127.0.0.1:11512 -> 127.0.0.1:8080  \n",
      "14  127.0.0.1:11513 -> 127.0.0.1:8080  \n",
      "28  127.0.0.1:11515 -> 127.0.0.1:8080  \n",
      "20  127.0.0.1:11510 -> 127.0.0.1:8080  \n",
      "41  127.0.0.1:11510 -> 127.0.0.1:8080  \n",
      "15  127.0.0.1:11512 -> 127.0.0.1:8080  \n",
      "39  127.0.0.1:11510 -> 127.0.0.1:8080  \n",
      "5   127.0.0.1:11511 -> 127.0.0.1:8080  \n",
      "4   127.0.0.1:11510 -> 127.0.0.1:8080  \n",
      "11  127.0.0.1:11511 -> 127.0.0.1:8080  \n",
      "17  127.0.0.1:11512 -> 127.0.0.1:8080  \n",
      "35  127.0.0.1:11510 -> 127.0.0.1:8080  \n",
      "36  127.0.0.1:11515 -> 127.0.0.1:8080  \n",
      "0   127.0.0.1:11510 -> 127.0.0.1:8080  \n",
      "45  127.0.0.1:8080 -> 127.0.0.1:11515  \n",
      "23  127.0.0.1:8080 -> 127.0.0.1:11510  \n",
      "12  127.0.0.1:8080 -> 127.0.0.1:11510  \n"
     ]
    }
   ],
   "metadata": {}
  },
  {
   "cell_type": "code",
   "execution_count": 71,
   "source": [
    "# Filtering by port\r\n",
    "\r\n",
    "is_port = df['srcport']==srcport\r\n",
    "print(is_port.head())\r\n",
    "df = df[is_port]"
   ],
   "outputs": [
    {
     "output_type": "stream",
     "name": "stdout",
     "text": [
      "1     True\n",
      "8     True\n",
      "18    True\n",
      "37    True\n",
      "40    True\n",
      "Name: srcport, dtype: bool\n"
     ]
    }
   ],
   "metadata": {}
  },
  {
   "cell_type": "code",
   "execution_count": 72,
   "source": [
    "# Filtering by the number of packets of chosen size\r\n",
    "\r\n",
    "is_bytes = df['payload_size']>2\r\n",
    "print(is_bytes.head())\r\n",
    "df = df[is_bytes]"
   ],
   "outputs": [
    {
     "output_type": "stream",
     "name": "stdout",
     "text": [
      "1     True\n",
      "8     True\n",
      "18    True\n",
      "37    True\n",
      "40    True\n",
      "Name: payload_size, dtype: bool\n"
     ]
    }
   ],
   "metadata": {}
  },
  {
   "cell_type": "code",
   "execution_count": 73,
   "source": [
    "# Minimize number of displayed columns\r\n",
    "\r\n",
    "# pd.set_option(\"display.max.columns\", None)\r\n",
    "# df.head()"
   ],
   "outputs": [],
   "metadata": {}
  },
  {
   "cell_type": "code",
   "execution_count": 74,
   "source": [
    "# Aggregation by flow and each entropies mean\r\n",
    "\r\n",
    "df[['flow','shannon','bien','tbien','payload_size']].groupby('flow').mean().sort_values('tbien', ascending=False)"
   ],
   "outputs": [
    {
     "output_type": "execute_result",
     "data": {
      "text/html": [
       "<div>\n",
       "<style scoped>\n",
       "    .dataframe tbody tr th:only-of-type {\n",
       "        vertical-align: middle;\n",
       "    }\n",
       "\n",
       "    .dataframe tbody tr th {\n",
       "        vertical-align: top;\n",
       "    }\n",
       "\n",
       "    .dataframe thead th {\n",
       "        text-align: right;\n",
       "    }\n",
       "</style>\n",
       "<table border=\"1\" class=\"dataframe\">\n",
       "  <thead>\n",
       "    <tr style=\"text-align: right;\">\n",
       "      <th></th>\n",
       "      <th>shannon</th>\n",
       "      <th>bien</th>\n",
       "      <th>tbien</th>\n",
       "      <th>payload_size</th>\n",
       "    </tr>\n",
       "    <tr>\n",
       "      <th>flow</th>\n",
       "      <th></th>\n",
       "      <th></th>\n",
       "      <th></th>\n",
       "      <th></th>\n",
       "    </tr>\n",
       "  </thead>\n",
       "  <tbody>\n",
       "    <tr>\n",
       "      <th>127.0.0.1:8080 -&gt; 127.0.0.1:11513</th>\n",
       "      <td>0.358755</td>\n",
       "      <td>0.620993</td>\n",
       "      <td>0.870135</td>\n",
       "      <td>410.500000</td>\n",
       "    </tr>\n",
       "    <tr>\n",
       "      <th>127.0.0.1:8080 -&gt; 127.0.0.1:11514</th>\n",
       "      <td>0.358755</td>\n",
       "      <td>0.620993</td>\n",
       "      <td>0.870135</td>\n",
       "      <td>410.500000</td>\n",
       "    </tr>\n",
       "    <tr>\n",
       "      <th>127.0.0.1:8080 -&gt; 127.0.0.1:11511</th>\n",
       "      <td>0.358807</td>\n",
       "      <td>0.622880</td>\n",
       "      <td>0.869486</td>\n",
       "      <td>410.250000</td>\n",
       "    </tr>\n",
       "    <tr>\n",
       "      <th>127.0.0.1:8080 -&gt; 127.0.0.1:11512</th>\n",
       "      <td>0.358807</td>\n",
       "      <td>0.622880</td>\n",
       "      <td>0.869486</td>\n",
       "      <td>410.250000</td>\n",
       "    </tr>\n",
       "    <tr>\n",
       "      <th>127.0.0.1:8080 -&gt; 127.0.0.1:11515</th>\n",
       "      <td>0.333473</td>\n",
       "      <td>0.615409</td>\n",
       "      <td>0.866543</td>\n",
       "      <td>905.333333</td>\n",
       "    </tr>\n",
       "    <tr>\n",
       "      <th>127.0.0.1:8080 -&gt; 127.0.0.1:11510</th>\n",
       "      <td>0.334004</td>\n",
       "      <td>0.609714</td>\n",
       "      <td>0.856657</td>\n",
       "      <td>2238.500000</td>\n",
       "    </tr>\n",
       "  </tbody>\n",
       "</table>\n",
       "</div>"
      ],
      "text/plain": [
       "                                    shannon      bien     tbien  payload_size\n",
       "flow                                                                         \n",
       "127.0.0.1:8080 -> 127.0.0.1:11513  0.358755  0.620993  0.870135    410.500000\n",
       "127.0.0.1:8080 -> 127.0.0.1:11514  0.358755  0.620993  0.870135    410.500000\n",
       "127.0.0.1:8080 -> 127.0.0.1:11511  0.358807  0.622880  0.869486    410.250000\n",
       "127.0.0.1:8080 -> 127.0.0.1:11512  0.358807  0.622880  0.869486    410.250000\n",
       "127.0.0.1:8080 -> 127.0.0.1:11515  0.333473  0.615409  0.866543    905.333333\n",
       "127.0.0.1:8080 -> 127.0.0.1:11510  0.334004  0.609714  0.856657   2238.500000"
      ]
     },
     "metadata": {},
     "execution_count": 74
    }
   ],
   "metadata": {}
  },
  {
   "cell_type": "code",
   "execution_count": 75,
   "source": [
    "# Plot 1\r\n",
    "\r\n",
    "title = 'PDF of {} packets, {} text in {}'.format(proto, text, encoding)\r\n",
    "ax = df.plot(x='payload_size', y=['shannon','bien','tbien'],kind='density',title=title, grid=True)\r\n",
    "ax.xaxis.grid(True, which='major', linestyle='-', linewidth=1)\r\n",
    "ymajortick = arange(0,110,10)\r\n",
    "yminortick = arange(0,110,5)\r\n",
    "ax.set_xlabel(\"Entropia\")\r\n",
    "ax.set_ylabel(\"Densidade\")\r\n",
    "ax.set_yticks( ymajortick, minor=False )\r\n",
    "ax.set_yticks( yminortick, minor=True )\r\n",
    "ax.grid('on', which='both', axis='x' )\r\n",
    "plt.savefig('Plots/rfc761/Cenarios/{}{}{}density.png'.format(proto, encoding, text), transparent=False)\r\n"
   ],
   "outputs": [
    {
     "output_type": "display_data",
     "data": {
      "image/png": "[encoded data removed]",
      "text/plain": [
       "<Figure size 432x288 with 1 Axes>"
      ]
     },
     "metadata": {
      "needs_background": "light"
     }
    }
   ],
   "metadata": {}
  },
  {
   "cell_type": "code",
   "execution_count": 76,
   "source": [
    "# Plot 2\r\n",
    "\r\n",
    "title = 'Boxplot of {} packets, {} text in {}'.format(proto, text, encoding)\r\n",
    "ax = df.plot(x='payload_size', y=['shannon','bien','tbien'],kind='box',title=title, grid=True)\r\n",
    "ax.xaxis.grid(True, which='major', linestyle='-', linewidth=1)\r\n",
    "ymajortick = arange(0,1.1,0.1)\r\n",
    "yminortick = arange(0,1.1,0.05)\r\n",
    "ax.set_ylabel(\"Entropia\")\r\n",
    "ax.set_yticks( ymajortick, minor=False )\r\n",
    "ax.set_yticks( yminortick, minor=True )\r\n",
    "ax.grid('on', which='both', axis='x' )\r\n",
    "plt.savefig('Plots/rfc761/Cenarios/{}{}{}box.png'.format(proto, encoding, text), transparent=False)"
   ],
   "outputs": [
    {
     "output_type": "display_data",
     "data": {
      "image/png": "[encoded data removed]",
      "text/plain": [
       "<Figure size 432x288 with 1 Axes>"
      ]
     },
     "metadata": {
      "needs_background": "light"
     }
    }
   ],
   "metadata": {}
  },
  {
   "cell_type": "code",
   "execution_count": 77,
   "source": [
    "# Table of data\r\n",
    "\r\n",
    "df = df.describe()\r\n",
    "print(df)"
   ],
   "outputs": [
    {
     "output_type": "stream",
     "name": "stdout",
     "text": [
      "       srcport   dstport  payload_size    shannon       bien      tbien\n",
      "count     25.0     25.00     25.000000  25.000000  25.000000  25.000000\n",
      "mean    8080.0  11511.64   1201.000000   0.345837   0.616415   0.864105\n",
      "std        0.0      1.80   2560.535003   0.036787   0.021599   0.020911\n",
      "min     8080.0  11510.00    410.000000   0.225656   0.531655   0.765651\n",
      "25%     8080.0  11510.00    410.000000   0.358548   0.617304   0.868586\n",
      "50%     8080.0  11511.00    410.000000   0.358754   0.624682   0.868805\n",
      "75%     8080.0  11513.00    411.000000   0.358962   0.624764   0.868867\n",
      "max     8080.0  11515.00  10897.000000   0.358962   0.624768   0.871684\n"
     ]
    }
   ],
   "metadata": {}
  },
  {
   "cell_type": "code",
   "execution_count": 78,
   "source": [
    "# Exporting new data\r\n",
    "\r\n",
    "filename = 'Outputs/RFC761/{}{}{}data.csv'.format(proto, encoding, text)\r\n",
    "df.to_csv(filename,',')"
   ],
   "outputs": [],
   "metadata": {}
  }
 ],
 "metadata": {
  "kernelspec": {
   "name": "python3",
   "display_name": "Python 3.8.10 64-bit (windows store)"
  },
  "language_info": {
   "codemirror_mode": {
    "name": "ipython",
    "version": 3
   },
   "file_extension": ".py",
   "mimetype": "text/x-python",
   "name": "python",
   "nbconvert_exporter": "python",
   "pygments_lexer": "ipython3",
   "version": "3.8.10"
  },
  "interpreter": {
   "hash": "f471c8a6502c2f47f9cc901400d60311cb2fd752a8ad61f5ab492866eead49a8"
  }
 },
 "nbformat": 4,
 "nbformat_minor": 5
}